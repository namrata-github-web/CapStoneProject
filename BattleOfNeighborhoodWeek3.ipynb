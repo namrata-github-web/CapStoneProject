{
 "cells": [
  {
   "cell_type": "markdown",
   "metadata": {},
   "source": [
    "## Introduction: Business Problem <a name=\"introduction\"></a>"
   ]
  },
  {
   "cell_type": "markdown",
   "metadata": {},
   "source": [
    "Bengaluru is sometimes referred to as the “Silicon Valley of India” (or “IT capital of India”) because of its role as the nation’s leading information technology (IT) exporter. Indian technological organisations ISRO, Infosys, Wipro and HAL are headquartered in the city.The establishment and success of ​high technology firms in Bangalore has led to the growth of Information Technology (IT​) in India. IT firms in Bangalore employee about 75% of India’s pool of 2.5 million IT professionals and account for the highest IT-related exports in the country.Every month so many IT engineers are relocating to Bangalore from all other parts of India along with their family or alone.India is the country of diversity and the cultural difference between South and North India is so obvious, that you feel they belong to two different continents.So the people travelling from all other parts of India are willing to relocate to the similar neighborhood where they used to stay. Therefore, it is advantageous for people to identify whether and how much a Neighborhood they are shifting to is similar to the one they are living in now.\n",
    "\n",
    ",In this blog we will be Exploring the neighborhood of the person and comparing it with the neighborhood of Bangalore. This project aims to recommend the person which locations in Bangalore are having similar neighborhoods to the one they are living in now.We will use our data science powers to generate a few most promising neighborhoods based on this criteria. Advantages of each area will then be clearly expressed so that the best possible final location can be chosen by the person."
   ]
  },
  {
   "cell_type": "markdown",
   "metadata": {},
   "source": [
    "## Data <a name=\"data\"></a>"
   ]
  },
  {
   "cell_type": "markdown",
   "metadata": {},
   "source": [
    "We decided to use locations(All SO & BO) centered around PinCodes of Bangalore, to define our neighborhoods.\n",
    "\n",
    "Following data sources will be needed to extract/generate the required information:\n",
    "* Centers of candidate areas will be based on pincodes and approximate addresses of centers of those areas will be obtained using **geopy**\n",
    "* number of venues in the neighborhood and their type and location in every neighborhood will be obtained using **Foursquare API**\n",
    "* coordinate of Bangalore center will be obtained using **geopy\n",
    "*Details of person neighborhood will be  collected by user and coordinate is obtained using **geopy"
   ]
  },
  {
   "cell_type": "markdown",
   "metadata": {},
   "source": []
  }
 ],
 "metadata": {
  "kernelspec": {
   "display_name": "Python",
   "language": "python",
   "name": "conda-env-python-py"
  },
  "language_info": {
   "codemirror_mode": {
    "name": "ipython",
    "version": 3
   },
   "file_extension": ".py",
   "mimetype": "text/x-python",
   "name": "python",
   "nbconvert_exporter": "python",
   "pygments_lexer": "ipython3",
   "version": "3.6.10"
  }
 },
 "nbformat": 4,
 "nbformat_minor": 4
}
