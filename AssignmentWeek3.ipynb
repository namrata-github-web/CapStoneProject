{
 "cells": [
  {
   "cell_type": "markdown",
   "metadata": {},
   "source": [
    "## Introduction: Business Problem <a name=\"introduction\"></a>"
   ]
  },
  {
   "cell_type": "markdown",
   "metadata": {},
   "source": [
    "In this project we will try to find the neighborhood similar to any city location in Bangalore City. Specifically, this report will be targeted to the people who are willing to relocate to bangalore and want to know which location in bangalore is having similar neighborhood in compare to the neighborhood they are staying.\n",
    "\n",
    "Since there are lots of IT companies in the bangalore so employee from all over India is relocating here every months.Bangalore is the southern part of India and it's neighborhood are quite different from northern part. So, people who are relocating will prefer the neighborhood similar to the neighborhood they are staying now.\n",
    "\n",
    "We will use our data science powers to generate a few most promissing neighborhoods based on this criteria. Advantages of each area will then be clearly expressed so that best possible final location can be chosen by the person."
   ]
  },
  {
   "cell_type": "markdown",
   "metadata": {},
   "source": [
    "## Data <a name=\"data\"></a>"
   ]
  },
  {
   "cell_type": "markdown",
   "metadata": {},
   "source": [
    "We decided to use locations(All SO & BO) centered around PinCodes of Bangalore, to define our neighborhoods.\n",
    "\n",
    "Following data sources will be needed to extract/generate the required information:\n",
    "* Centers of candidate areas will be based on pincodes and approximate addresses of centers of those areas will be obtained using **geopy**\n",
    "* number of venues in the neighborhood and their type and location in every neighborhood will be obtained using **Foursquare API**\n",
    "* coordinate of Bangalore center will be obtained using **geopy\n",
    "*Details of person neighborhood will be  collected by user and coordinate is obtained using **geopy"
   ]
  },
  {
   "cell_type": "markdown",
   "metadata": {},
   "source": []
  }
 ],
 "metadata": {
  "kernelspec": {
   "display_name": "Python",
   "language": "python",
   "name": "conda-env-python-py"
  },
  "language_info": {
   "codemirror_mode": {
    "name": "ipython",
    "version": 3
   },
   "file_extension": ".py",
   "mimetype": "text/x-python",
   "name": "python",
   "nbconvert_exporter": "python",
   "pygments_lexer": "ipython3",
   "version": "3.6.10"
  }
 },
 "nbformat": 4,
 "nbformat_minor": 4
}
